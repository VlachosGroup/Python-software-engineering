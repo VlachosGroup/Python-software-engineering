{
 "cells": [
  {
   "cell_type": "markdown",
   "id": "ffa8cd96-724d-4683-9a59-6c1e53d1b462",
   "metadata": {},
   "source": [
    "# Required modules"
   ]
  },
  {
   "cell_type": "code",
   "execution_count": 2,
   "id": "ef9a778a-06a2-4dc0-941b-23c84b7c6418",
   "metadata": {},
   "outputs": [],
   "source": [
    "import attr\n",
    "import random\n",
    "import typing"
   ]
  },
  {
   "cell_type": "markdown",
   "id": "abb0ebc4-7cae-4530-8ea7-a01fcb5348c7",
   "metadata": {},
   "source": [
    "# Basics"
   ]
  },
  {
   "cell_type": "markdown",
   "id": "42bef0fa-177e-4ece-85b1-4789b31cb03b",
   "metadata": {},
   "source": [
    "In its most basic form, `attr` resembles the standard Python `dataclass`."
   ]
  },
  {
   "cell_type": "code",
   "execution_count": 11,
   "id": "1452407c-47d6-4944-9d11-e4e736595a89",
   "metadata": {},
   "outputs": [],
   "source": [
    "@attr.s\n",
    "class Person():\n",
    "    id = attr.ib()\n",
    "    first_name = attr.ib()\n",
    "    last_name = attr.ib()\n",
    "    age = attr.ib()"
   ]
  },
  {
   "cell_type": "markdown",
   "id": "b5ba28a7-695c-47c5-b57e-217eedeea409",
   "metadata": {},
   "source": [
    "Objects of this class have four attributes.  They can be initialized by using keyword arguments in the constructor."
   ]
  },
  {
   "cell_type": "code",
   "execution_count": 12,
   "id": "6faca179-33c8-45df-ac95-d342098c90f9",
   "metadata": {},
   "outputs": [],
   "source": [
    "p1 = Person(id=123, first_name='Albert', last_name='Einstein', age=67)"
   ]
  },
  {
   "cell_type": "markdown",
   "id": "e55953e2-5d97-4ca1-b796-48e03e3a63db",
   "metadata": {},
   "source": [
    "`attr` automatically generates a nice `__repr__` for you."
   ]
  },
  {
   "cell_type": "code",
   "execution_count": 13,
   "id": "72821db8-4c91-401f-9c93-ccf97cc6090d",
   "metadata": {},
   "outputs": [
    {
     "data": {
      "text/plain": [
       "Person(id=123, first_name='Albert', last_name='Einstein', age=67)"
      ]
     },
     "execution_count": 13,
     "metadata": {},
     "output_type": "execute_result"
    }
   ],
   "source": [
    "p1"
   ]
  },
  {
   "cell_type": "markdown",
   "id": "8b93bbf2-eae6-48b9-8aa3-2764e9eba83f",
   "metadata": {},
   "source": [
    "Attributes behave as if they were defined through Python's standard decorators."
   ]
  },
  {
   "cell_type": "code",
   "execution_count": 14,
   "id": "0ff67224-7d33-4836-bf3a-b5fd9835e719",
   "metadata": {},
   "outputs": [
    {
     "data": {
      "text/plain": [
       "67"
      ]
     },
     "execution_count": 14,
     "metadata": {},
     "output_type": "execute_result"
    }
   ],
   "source": [
    "p1.age"
   ]
  },
  {
   "cell_type": "code",
   "execution_count": 15,
   "id": "915ac342-d365-4972-b833-83ff4beead08",
   "metadata": {},
   "outputs": [],
   "source": [
    "p1.age = 48"
   ]
  },
  {
   "cell_type": "code",
   "execution_count": 16,
   "id": "5582b4c9-b96a-4a0b-b454-ae243423b0a1",
   "metadata": {},
   "outputs": [
    {
     "data": {
      "text/plain": [
       "48"
      ]
     },
     "execution_count": 16,
     "metadata": {},
     "output_type": "execute_result"
    }
   ],
   "source": [
    "p1.age"
   ]
  },
  {
   "cell_type": "markdown",
   "id": "2e2a720b-0fc8-45a1-a3b3-addfca233b9a",
   "metadata": {},
   "source": [
    "## Private attributes"
   ]
  },
  {
   "cell_type": "code",
   "execution_count": 27,
   "id": "a120c2c8-4a52-4e4d-8708-75a1edbc6f7b",
   "metadata": {},
   "outputs": [],
   "source": [
    "@attr.s\n",
    "class PublicPrivate():\n",
    "    value = attr.ib()\n",
    "    _mine = attr.ib()"
   ]
  },
  {
   "cell_type": "markdown",
   "id": "82e2d832-61fa-4fe0-896b-01d604e43bab",
   "metadata": {},
   "source": [
    "Note that to initialize the private attribute `_mine`, you can leave off the leading underscore."
   ]
  },
  {
   "cell_type": "code",
   "execution_count": 28,
   "id": "64e3b8cd-4381-4f83-9113-a5b30560f2ce",
   "metadata": {},
   "outputs": [],
   "source": [
    "obj = PublicPrivate(value=17, mine=12)"
   ]
  },
  {
   "cell_type": "code",
   "execution_count": 29,
   "id": "62a8eecc-1c7d-435e-b83a-4acf74cd8fe8",
   "metadata": {},
   "outputs": [
    {
     "data": {
      "text/plain": [
       "PublicPrivate(value=17, _mine=12)"
      ]
     },
     "execution_count": 29,
     "metadata": {},
     "output_type": "execute_result"
    }
   ],
   "source": [
    "obj"
   ]
  },
  {
   "cell_type": "markdown",
   "id": "64317bda-b47f-49c1-a8da-07d7d1fed09c",
   "metadata": {},
   "source": [
    "Note that the private attribute can not be accessed without the undersocre."
   ]
  },
  {
   "cell_type": "code",
   "execution_count": 30,
   "id": "79918bba-ab66-4312-91ef-2e7a4e688d4e",
   "metadata": {},
   "outputs": [
    {
     "name": "stdout",
     "output_type": "stream",
     "text": [
      "No way\n"
     ]
    }
   ],
   "source": [
    "try:\n",
    "    print(obj.mine)\n",
    "except:\n",
    "    print('No way')"
   ]
  },
  {
   "cell_type": "markdown",
   "id": "a8740b68-d8fe-4b9a-a6ab-32c37c5ee86e",
   "metadata": {},
   "source": [
    "You can initialize private attributes yourself by specifying the default value and setting `init` to `False`."
   ]
  },
  {
   "cell_type": "code",
   "execution_count": 29,
   "id": "be66cbad-c740-4d85-afdb-4bdda2e10d8a",
   "metadata": {},
   "outputs": [],
   "source": [
    "@attr.s\n",
    "class PublicPrivate():\n",
    "    value = attr.ib()\n",
    "    _mine = attr.ib(init=False, default=42)"
   ]
  },
  {
   "cell_type": "code",
   "execution_count": 30,
   "id": "854a7925-958f-4bfd-9324-1ab72bca080f",
   "metadata": {},
   "outputs": [
    {
     "data": {
      "text/plain": [
       "PublicPrivate(value=3, _mine=42)"
      ]
     },
     "execution_count": 30,
     "metadata": {},
     "output_type": "execute_result"
    }
   ],
   "source": [
    "PublicPrivate(3)"
   ]
  },
  {
   "cell_type": "markdown",
   "id": "349efa8f-3513-463b-8b99-a1d6d64a7457",
   "metadata": {},
   "source": [
    "## Mutable attribute initialization"
   ]
  },
  {
   "cell_type": "markdown",
   "id": "5db4df28-4a66-4d80-8fc3-5688e7059383",
   "metadata": {},
   "source": [
    "You can initialize attributes yourself in non-trivial ways.  The `_values` attribute will be initialized by the return value of the method `init_values`."
   ]
  },
  {
   "cell_type": "code",
   "execution_count": 9,
   "id": "d0837d6f-8684-47c4-aa02-cd7379befcb3",
   "metadata": {},
   "outputs": [],
   "source": [
    "@attr.s\n",
    "class Guessing:\n",
    "    nr_values = attr.ib()\n",
    "    _values = attr.ib(init=False)\n",
    "    @_values.default\n",
    "    def init_values(self):\n",
    "        values = set()\n",
    "        while len(values) < self.nr_values:\n",
    "            values.add(random.choice(list(range(10))))\n",
    "        return values\n",
    "    \n",
    "    def has_value(self, value):\n",
    "        return value in self._values"
   ]
  },
  {
   "cell_type": "code",
   "execution_count": 10,
   "id": "f7fce390-783e-485a-bb99-906181025b0b",
   "metadata": {},
   "outputs": [],
   "source": [
    "guess1 = Guessing(3)"
   ]
  },
  {
   "cell_type": "code",
   "execution_count": 11,
   "id": "418668d7-e6e3-413b-96dc-f6daf71aa4ad",
   "metadata": {},
   "outputs": [
    {
     "data": {
      "text/plain": [
       "Guessing(nr_values=3, _values={8, 4, 7})"
      ]
     },
     "execution_count": 11,
     "metadata": {},
     "output_type": "execute_result"
    }
   ],
   "source": [
    "guess1"
   ]
  },
  {
   "cell_type": "code",
   "execution_count": 12,
   "id": "68e2fd65-3b92-4c97-aa7b-2fc9d6324de9",
   "metadata": {},
   "outputs": [],
   "source": [
    "guess2 = Guessing(3)"
   ]
  },
  {
   "cell_type": "code",
   "execution_count": 13,
   "id": "26038a03-4671-4082-b2a3-9e38c53b4215",
   "metadata": {},
   "outputs": [
    {
     "data": {
      "text/plain": [
       "Guessing(nr_values=3, _values={8, 9, 3})"
      ]
     },
     "execution_count": 13,
     "metadata": {},
     "output_type": "execute_result"
    }
   ],
   "source": [
    "guess2"
   ]
  },
  {
   "cell_type": "code",
   "execution_count": 14,
   "id": "a5505986-4978-43a7-a0c3-8a9e390fc589",
   "metadata": {},
   "outputs": [
    {
     "data": {
      "text/plain": [
       "True"
      ]
     },
     "execution_count": 14,
     "metadata": {},
     "output_type": "execute_result"
    }
   ],
   "source": [
    "guess1.has_value(4)"
   ]
  },
  {
   "cell_type": "code",
   "execution_count": 15,
   "id": "39d7f915-1540-4541-88d6-87720018f845",
   "metadata": {},
   "outputs": [
    {
     "data": {
      "text/plain": [
       "False"
      ]
     },
     "execution_count": 15,
     "metadata": {},
     "output_type": "execute_result"
    }
   ],
   "source": [
    "guess2.has_value(4)"
   ]
  },
  {
   "cell_type": "markdown",
   "id": "0fdd936d-1ee8-4225-8b0c-11d005d7a6d6",
   "metadata": {},
   "source": [
    "Note that mutable attributes have to be defined either using the method above, or using `attr.Factory`.  The class below illustrates what happens if you are naive about this."
   ]
  },
  {
   "cell_type": "code",
   "execution_count": 16,
   "id": "fcf6b561-3e09-47cb-8ba4-0b26a535d148",
   "metadata": {},
   "outputs": [],
   "source": [
    "@attr.s\n",
    "class Naive:\n",
    "    values = attr.ib(init=False, default=list())"
   ]
  },
  {
   "cell_type": "code",
   "execution_count": 17,
   "id": "765879cb-ce32-4b23-a5ec-ecf62b092dd5",
   "metadata": {},
   "outputs": [],
   "source": [
    "obj1 = Naive()"
   ]
  },
  {
   "cell_type": "code",
   "execution_count": 18,
   "id": "a43b2bf3-be2f-4e11-9f98-3011ba318fc8",
   "metadata": {},
   "outputs": [],
   "source": [
    "obj2 = Naive()"
   ]
  },
  {
   "cell_type": "code",
   "execution_count": 19,
   "id": "3407718c-c554-46ef-829d-fc3135459d7e",
   "metadata": {},
   "outputs": [],
   "source": [
    "obj1.values.append(5)"
   ]
  },
  {
   "cell_type": "code",
   "execution_count": 20,
   "id": "d91ba6b2-5d37-4291-bd14-a9c42a06256e",
   "metadata": {},
   "outputs": [
    {
     "data": {
      "text/plain": [
       "Naive(values=[5])"
      ]
     },
     "execution_count": 20,
     "metadata": {},
     "output_type": "execute_result"
    }
   ],
   "source": [
    "obj2"
   ]
  },
  {
   "cell_type": "markdown",
   "id": "62365b44-8e00-4d64-91d2-b84396eb270e",
   "metadata": {},
   "source": [
    "This may be surprising until you realize that the list is instantiated when the class definition is executed, and hence is the same for all objects instantiated for that class."
   ]
  },
  {
   "cell_type": "code",
   "execution_count": 31,
   "id": "26997ac8-9a9b-4189-9013-5019d56bc767",
   "metadata": {},
   "outputs": [],
   "source": [
    "@attr.s\n",
    "class NotSoNaive:\n",
    "    values = attr.ib(init=False, factory=list)"
   ]
  },
  {
   "cell_type": "code",
   "execution_count": 32,
   "id": "9fe281eb-15d5-473f-a66e-14e9499e658c",
   "metadata": {},
   "outputs": [],
   "source": [
    "obj1 = NotSoNaive()"
   ]
  },
  {
   "cell_type": "code",
   "execution_count": 33,
   "id": "80758524-da8c-41c1-8811-0845f1e01a4f",
   "metadata": {},
   "outputs": [],
   "source": [
    "obj2 = NotSoNaive()"
   ]
  },
  {
   "cell_type": "code",
   "execution_count": 34,
   "id": "eaaa043d-df66-42f4-8eda-ee2883b91edf",
   "metadata": {},
   "outputs": [],
   "source": [
    "obj1.values.append(5)"
   ]
  },
  {
   "cell_type": "code",
   "execution_count": 35,
   "id": "6a0c122e-497e-42c1-9e0f-ec73993feb0a",
   "metadata": {},
   "outputs": [
    {
     "data": {
      "text/plain": [
       "NotSoNaive(values=[5])"
      ]
     },
     "execution_count": 35,
     "metadata": {},
     "output_type": "execute_result"
    }
   ],
   "source": [
    "obj1"
   ]
  },
  {
   "cell_type": "code",
   "execution_count": 36,
   "id": "e166f967-bdf6-4a70-b96d-eda52f334d2f",
   "metadata": {},
   "outputs": [
    {
     "data": {
      "text/plain": [
       "NotSoNaive(values=[])"
      ]
     },
     "execution_count": 36,
     "metadata": {},
     "output_type": "execute_result"
    }
   ],
   "source": [
    "obj2"
   ]
  },
  {
   "cell_type": "markdown",
   "id": "3f9113e4-2de0-49c0-9d8f-615ad370ac90",
   "metadata": {},
   "source": [
    "## Validators"
   ]
  },
  {
   "cell_type": "markdown",
   "id": "cc420df2-4acc-462a-82bf-a01e9c7d98b3",
   "metadata": {},
   "source": [
    "You can add validators to attributes, e.g., to check whether a value is in a certain range."
   ]
  },
  {
   "cell_type": "code",
   "execution_count": 82,
   "id": "2bdb7cdf-bd59-4aa3-a789-d0dd33c2e787",
   "metadata": {},
   "outputs": [],
   "source": [
    "@attr.s\n",
    "class Guessing:\n",
    "    nr_values = attr.ib(type=int)\n",
    "    @nr_values.validator\n",
    "    def nr_values_validate(self, attribute, value):\n",
    "        if value < 1 or value > 10:\n",
    "            raise ValueError('number of values should be between 1 and 10')\n",
    "    _values = attr.ib(init=False)\n",
    "    @_values.default\n",
    "    def init_values(self):\n",
    "        values = set()\n",
    "        while len(values) < self.nr_values:\n",
    "            values.add(random.choice(list(range(10))))\n",
    "        return values\n",
    "    \n",
    "    def has_value(self, value):\n",
    "        return value in self._values"
   ]
  },
  {
   "cell_type": "code",
   "execution_count": 66,
   "id": "b0190cb1-adcd-4f24-95fa-2124b9024385",
   "metadata": {},
   "outputs": [
    {
     "name": "stdout",
     "output_type": "stream",
     "text": [
      "number of values should be between 1 and 10\n"
     ]
    }
   ],
   "source": [
    "try:\n",
    "    Guessing(-1)\n",
    "except ValueError as error:\n",
    "    print(error)"
   ]
  },
  {
   "cell_type": "markdown",
   "id": "0021f402-d129-4760-9f44-7fb5a922c31f",
   "metadata": {},
   "source": [
    "Note that default factories are executed before any validators, which explains why the following doesn't result in a validation error."
   ]
  },
  {
   "cell_type": "code",
   "execution_count": 76,
   "id": "ca9308bc-91f8-4081-b904-1c65d53bee44",
   "metadata": {},
   "outputs": [
    {
     "name": "stdout",
     "output_type": "stream",
     "text": [
      "'<' not supported between instances of 'int' and 'str'\n"
     ]
    }
   ],
   "source": [
    "try:\n",
    "    Guessing('abc')\n",
    "except TypeError as error:\n",
    "    print(error)"
   ]
  },
  {
   "cell_type": "markdown",
   "id": "6cc72d6f-fb8f-478d-b9cc-679a4a765b85",
   "metadata": {},
   "source": [
    "You can add type information to attributes, either using Python's type hints, or `attr.ib`'s keyword argument."
   ]
  },
  {
   "cell_type": "code",
   "execution_count": 77,
   "id": "e6b1fe34-4731-4e9b-a097-ab5bcd44fff9",
   "metadata": {},
   "outputs": [],
   "source": [
    "@attr.s\n",
    "class Numbers:\n",
    "    x = attr.ib(type=float)\n",
    "    y : str = attr.ib()"
   ]
  },
  {
   "cell_type": "markdown",
   "id": "cdb3e41c-cf38-4e94-bcd5-3c8924ac713e",
   "metadata": {},
   "source": [
    "However, don't get excited, this will only help static type checkers such as mypy, no runtime checks are added."
   ]
  },
  {
   "cell_type": "code",
   "execution_count": 78,
   "id": "7e5f6691-6105-4543-bd13-c03ae1efe83f",
   "metadata": {},
   "outputs": [
    {
     "data": {
      "text/plain": [
       "Numbers(x='abc', y=3)"
      ]
     },
     "execution_count": 78,
     "metadata": {},
     "output_type": "execute_result"
    }
   ],
   "source": [
    "Numbers(x='abc', y=3)"
   ]
  },
  {
   "cell_type": "markdown",
   "id": "9c58a1a2-492a-48c0-86a1-4b45e1ef76dd",
   "metadata": {},
   "source": [
    "## Converters"
   ]
  },
  {
   "cell_type": "markdown",
   "id": "05bc2106-d118-4b0f-be43-b1547f247780",
   "metadata": {},
   "source": [
    "You can specify a converter for an attribute value.  This will be invoked after the default factory, but before the validator."
   ]
  },
  {
   "cell_type": "code",
   "execution_count": 83,
   "id": "9c1f113f-280d-4c25-852f-c5997bf83b23",
   "metadata": {},
   "outputs": [],
   "source": [
    "@attr.s\n",
    "class Guessing:\n",
    "    nr_values : int = attr.ib(converter=int)\n",
    "    @nr_values.validator\n",
    "    def nr_values_validate(self, attribute, value):\n",
    "        if value < 1 or value > 10:\n",
    "            raise ValueError('number of values should be between 1 and 10')\n",
    "    _values : typing.List[int] = attr.ib(init=False)\n",
    "    @_values.default\n",
    "    def init_values(self):\n",
    "        values = set()\n",
    "        while len(values) < self.nr_values:\n",
    "            values.add(random.choice(list(range(10))))\n",
    "        return values\n",
    "    \n",
    "    def has_value(self, value):\n",
    "        return value in self._values"
   ]
  },
  {
   "cell_type": "code",
   "execution_count": 84,
   "id": "c9b45abc-d76e-446b-b10c-1ee7f02478be",
   "metadata": {},
   "outputs": [
    {
     "name": "stdout",
     "output_type": "stream",
     "text": [
      "invalid literal for int() with base 10: 'abc'\n"
     ]
    }
   ],
   "source": [
    "try:\n",
    "    Guessing('abc')\n",
    "except ValueError as error:\n",
    "    print(error)"
   ]
  },
  {
   "cell_type": "code",
   "execution_count": 85,
   "id": "b60c3e65-4976-4c48-8e67-ac5d6fb62138",
   "metadata": {},
   "outputs": [
    {
     "data": {
      "text/plain": [
       "Guessing(nr_values=4, _values={0, 9, 2, 5})"
      ]
     },
     "execution_count": 85,
     "metadata": {},
     "output_type": "execute_result"
    }
   ],
   "source": [
    "Guessing('4')"
   ]
  },
  {
   "cell_type": "code",
   "execution_count": 88,
   "id": "a3ded931-9d57-4338-bc04-9263268c61b6",
   "metadata": {},
   "outputs": [
    {
     "name": "stdout",
     "output_type": "stream",
     "text": [
      "number of values should be between 1 and 10\n"
     ]
    }
   ],
   "source": [
    "try:\n",
    "    Guessing('-9')\n",
    "except ValueError as error:\n",
    "    print(error)"
   ]
  },
  {
   "cell_type": "markdown",
   "id": "771ff071-c15e-439a-b976-f7cb783a68ab",
   "metadata": {},
   "source": [
    "## Post-init hook"
   ]
  },
  {
   "cell_type": "markdown",
   "id": "658da1f9-f5a0-46fa-b730-2cfb497e48d8",
   "metadata": {},
   "source": [
    "Sometimes you want to do initialization based on the values of the attributes passed to the constructor.  You would typically do that in the `__init__` method.  To do similar things for `attrs` classes, you can use the `__attrs_post_init__` method."
   ]
  },
  {
   "cell_type": "code",
   "execution_count": 7,
   "id": "7a616115-ddd2-4582-ad3a-47b3ab7f8c64",
   "metadata": {},
   "outputs": [],
   "source": [
    "@attr.s\n",
    "class Guessing:\n",
    "    nr_values : int = attr.ib(converter=int)\n",
    "    _values : typing.List[int] = attr.ib(init=False)\n",
    "\n",
    "    @nr_values.validator\n",
    "    def nr_values_validate(self, attribute, value):\n",
    "        if value < 1 or value > 10:\n",
    "            raise ValueError('number of values should be between 1 and 10')\n",
    "\n",
    "    def __attrs_post_init__(self):\n",
    "        self._values = set()\n",
    "        while len(self._values) < self.nr_values:\n",
    "            self._values.add(random.choice(list(range(10))))\n",
    "    \n",
    "    def has_value(self, value):\n",
    "        return value in self._values"
   ]
  },
  {
   "cell_type": "code",
   "execution_count": 10,
   "id": "0cbea0f1-0f55-49f3-aaa2-54fd0006ca04",
   "metadata": {},
   "outputs": [
    {
     "name": "stdout",
     "output_type": "stream",
     "text": [
      "Guessing(nr_values=4, _values={0, 2, 5, 6})\n",
      "trying 7\n",
      "no luck with 7\n",
      "trying 4\n",
      "no luck with 4\n",
      "trying 8\n",
      "no luck with 8\n"
     ]
    }
   ],
   "source": [
    "guessing = Guessing(4)\n",
    "print(guessing)\n",
    "for guess in random.choices(range(10), k=3):\n",
    "    print(f'trying {guess}')\n",
    "    if guessing.has_value(guess):\n",
    "        print(f'hurray for {guess}!')\n",
    "    else:\n",
    "        print(f'no luck with {guess}')"
   ]
  },
  {
   "cell_type": "code",
   "execution_count": null,
   "id": "b84b2436-9a82-4872-a087-71fd4cbe5de4",
   "metadata": {},
   "outputs": [],
   "source": []
  }
 ],
 "metadata": {
  "kernelspec": {
   "display_name": "Python 3",
   "language": "python",
   "name": "python3"
  },
  "language_info": {
   "codemirror_mode": {
    "name": "ipython",
    "version": 3
   },
   "file_extension": ".py",
   "mimetype": "text/x-python",
   "name": "python",
   "nbconvert_exporter": "python",
   "pygments_lexer": "ipython3",
   "version": "3.9.5"
  }
 },
 "nbformat": 4,
 "nbformat_minor": 5
}
